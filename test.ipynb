{
 "cells": [
  {
   "cell_type": "code",
   "execution_count": null,
   "metadata": {},
   "outputs": [
    {
     "name": "stdout",
     "output_type": "stream",
     "text": [
      "a:1 b:2\n",
      "a:2 b:1\n"
     ]
    }
   ],
   "source": [
    "a=int(input(\"Enter number 1\"))\n",
    "b=int(input(\"Enter number 2\"))\n",
    "print(f'a:{a} b:{b}')\n",
    "a,b=b,a     \n",
    "print(f'a:{a} b:{b}')"
   ]
  },
  {
   "cell_type": "code",
   "execution_count": 12,
   "metadata": {},
   "outputs": [
    {
     "name": "stdout",
     "output_type": "stream",
     "text": [
      "yrtifv mkjfvy,hf hyjudm b,fdtum lbxst6d7  cde5u7tjdmncbm\n",
      "mbcnmdjt7u5edc  7d6tsxbl mutdf,b mdujyh fh,yvfjkm vfitry\n"
     ]
    }
   ],
   "source": [
    "a=input(\"Enter Book Name\")\n",
    "print(a)\n",
    "for i in range(len(a)-1,-1,-1):\n",
    "    print(a[i],end=\"\")\n",
    "print()"
   ]
  },
  {
   "cell_type": "code",
   "execution_count": 19,
   "metadata": {},
   "outputs": [
    {
     "name": "stdout",
     "output_type": "stream",
     "text": [
      "True\n"
     ]
    }
   ],
   "source": [
    "a=int(input(\"Enter the number\"))\n",
    "a1=a\n",
    "s=0\n",
    "while(a1>0):\n",
    "    r=a1%10\n",
    "    s+=(r**3)\n",
    "    a1=a1//10\n",
    "print(\"True\" if s==a else \"False\")"
   ]
  },
  {
   "cell_type": "code",
   "execution_count": null,
   "metadata": {},
   "outputs": [
    {
     "name": "stdout",
     "output_type": "stream",
     "text": [
      "Input String energy\n",
      "Vowel Count 2\n",
      "Consonants Count 4\n"
     ]
    }
   ],
   "source": [
    "a=input(\"Enter String\")\n",
    "a=a.lower()\n",
    "v=0\n",
    "for i in a:\n",
    "    if i in set(\"aeiou\"):\n",
    "        v+=1\n",
    "print(f\"Input String {a}\\nVowel Count {v}\\nConsonants Count {len(a)-v}\")"
   ]
  },
  {
   "cell_type": "code",
   "execution_count": 26,
   "metadata": {},
   "outputs": [
    {
     "name": "stdout",
     "output_type": "stream",
     "text": [
      "12 X 0 : 0\n",
      "12 X 1 : 12\n",
      "12 X 2 : 24\n",
      "12 X 3 : 36\n",
      "12 X 4 : 48\n",
      "12 X 5 : 60\n",
      "12 X 6 : 72\n",
      "12 X 7 : 84\n",
      "12 X 8 : 96\n",
      "12 X 9 : 108\n",
      "12 X 10 : 120\n"
     ]
    }
   ],
   "source": [
    "a=int(input(\"Enter a number\"))\n",
    "for i in range(11):\n",
    "    print(f'{a} X {i} : {a*i}')"
   ]
  },
  {
   "cell_type": "code",
   "execution_count": 8,
   "metadata": {},
   "outputs": [
    {
     "name": "stdout",
     "output_type": "stream",
     "text": [
      "Leap\n"
     ]
    }
   ],
   "source": [
    "a=int(input(\"Enter Year\"))\n",
    "if (a%4==0) or (a%100==0 and a%400==0):\n",
    "    print(\"Leap\")\n",
    "else:\n",
    "    print(\"Non Leap\")"
   ]
  },
  {
   "cell_type": "code",
   "execution_count": 2,
   "metadata": {},
   "outputs": [
    {
     "name": "stdout",
     "output_type": "stream",
     "text": [
      "Max Score : 5\n"
     ]
    }
   ],
   "source": [
    "l=list(map(int,input().split()))\n",
    "print(f\"Max Score : {max(l)}\")"
   ]
  },
  {
   "cell_type": "code",
   "execution_count": 9,
   "metadata": {},
   "outputs": [
    {
     "name": "stdout",
     "output_type": "stream",
     "text": [
      "Palindrome\n"
     ]
    }
   ],
   "source": [
    "a=input()\n",
    "if a==a[::-1]:\n",
    "    print(\"Palindrome\")\n",
    "else:\n",
    "    print(\"Not a Palindrome\")"
   ]
  },
  {
   "cell_type": "code",
   "execution_count": 18,
   "metadata": {},
   "outputs": [
    {
     "name": "stdout",
     "output_type": "stream",
     "text": [
      "Factorial:11324281178206297831457521158732046228731749579488251990048962825668835325234200766245086213177344000000000000000000\n"
     ]
    }
   ],
   "source": [
    "a=int(input(\"Enter the no of workers\"))\n",
    "k=1\n",
    "for i in range(1,a+1):\n",
    "    k=k*i\n",
    "print(f\"Factorial:{k}\")"
   ]
  },
  {
   "cell_type": "code",
   "execution_count": 13,
   "metadata": {},
   "outputs": [
    {
     "name": "stdout",
     "output_type": "stream",
     "text": [
      "15 30 45 60 75 90\n"
     ]
    }
   ],
   "source": [
    "k=[]\n",
    "for i in range(1,101):\n",
    "    if i%3==0 and i%5==0:\n",
    "        k.append(i)\n",
    "print(*k)"
   ]
  }
 ],
 "metadata": {
  "kernelspec": {
   "display_name": "Python 3",
   "language": "python",
   "name": "python3"
  },
  "language_info": {
   "codemirror_mode": {
    "name": "ipython",
    "version": 3
   },
   "file_extension": ".py",
   "mimetype": "text/x-python",
   "name": "python",
   "nbconvert_exporter": "python",
   "pygments_lexer": "ipython3",
   "version": "3.11.0"
  }
 },
 "nbformat": 4,
 "nbformat_minor": 2
}
