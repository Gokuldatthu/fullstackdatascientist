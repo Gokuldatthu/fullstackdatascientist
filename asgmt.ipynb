{
 "cells": [
  {
   "cell_type": "code",
   "execution_count": null,
   "id": "02647e4b",
   "metadata": {},
   "outputs": [],
   "source": [
    "\"\"\"\n",
    "1. Problem: Given a text file, count the total number of words.\n",
    "2. Problem: Write a program to check if a password is strong (at least 8 characters, contains uppercase, lowercase, digit, and special char).\n",
    "3. Problem: Implement a calculator with +, -, *, / operations.\n",
    "4. Problem: Given a list of student names, find duplicates.\n",
    "5. Problem: Convert between Celsius and Fahrenheit.\n",
    "6. Problem: Find the largest number from a list of integers.\n",
    "7. Problem: Calculate Simple Interest.\n",
    "8. Problem: Given a dictionary of student names and attendance %, find defaulters (<75%).\n",
    "9. Problem: Input: 1234 → Output: 10\n",
    "10. Problem: Write a function to check if a number is prime.\n",
    "11. Problem: Find smallest and largest numbers from a list.\n",
    "12. Problem: Given items with prices in a dictionary, calculate total bill.\n",
    "13. Problem: Input 3 numbers, print the largest.\n",
    "14. Problem: Count how many times each character appears in a string.\n",
    "15. Problem: Calculate electricity bill:\n",
    "First 100 units → ₹5/unit\n",
    "Next 100 units → ₹7/unit\n",
    "Above 200 units → ₹10/unit\n",
    "16. Problem: Sort a list of names in ascending order.\n",
    "17. Problem: Input: 1234 → Output: 4321\n",
    "18. Problem: Given a list, count positive, negative, and zero numbers.\n",
    "19. Problem: User has 3 attempts to enter correct PIN.\n",
    "20. Problem: Write a program that asks for two numbers and divides them. Handle division by zero.\n",
    "21. Problem: Write a program that handles both ValueError (invalid input) and ZeroDivisionError.\n",
    "22. Problem: If withdrawal amount is greater than balance, raise an exception.\n",
    "23. Problem: Calculate total price, handle invalid input, and always show \"Bill processing finished\".\n",
    "\t•\tFirst 100 units → ₹5/unit\n",
    "\t•\tNext 100 units → ₹7/unit\n",
    "\t•\tAbove 200 units → ₹10/uni\n",
    "\"\"\""
   ]
  },
  {
   "cell_type": "code",
   "execution_count": 43,
   "id": "8678d0c9",
   "metadata": {},
   "outputs": [
    {
     "name": "stdout",
     "output_type": "stream",
     "text": [
      "Count of words: 14\n"
     ]
    }
   ],
   "source": [
    "'''1. Problem: Given a text file, count the total number of words.'''\n",
    "def count(path):\n",
    "\n",
    "    f=open(path,\"r\")\n",
    "    c=0\n",
    "    for line in f:\n",
    "        c+=len(line.strip().split())\n",
    "    f.close()\n",
    "    return c\n",
    "a=input(\"File name\")\n",
    "print(\"Count of words:\",count(a))\n"
   ]
  },
  {
   "cell_type": "code",
   "execution_count": 46,
   "id": "e989cc3c",
   "metadata": {},
   "outputs": [
    {
     "name": "stdout",
     "output_type": "stream",
     "text": [
      "1\n"
     ]
    }
   ],
   "source": [
    "import random\n",
    "random.seed(2)\n",
    "print(random.randint(1,5))"
   ]
  },
  {
   "cell_type": "code",
   "execution_count": null,
   "id": "eaf0f728",
   "metadata": {},
   "outputs": [],
   "source": []
  }
 ],
 "metadata": {
  "kernelspec": {
   "display_name": "Python 3",
   "language": "python",
   "name": "python3"
  },
  "language_info": {
   "codemirror_mode": {
    "name": "ipython",
    "version": 3
   },
   "file_extension": ".py",
   "mimetype": "text/x-python",
   "name": "python",
   "nbconvert_exporter": "python",
   "pygments_lexer": "ipython3",
   "version": "3.11.13"
  }
 },
 "nbformat": 4,
 "nbformat_minor": 5
}
