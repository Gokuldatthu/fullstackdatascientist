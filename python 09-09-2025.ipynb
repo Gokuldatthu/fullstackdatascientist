{
 "cells": [
  {
   "cell_type": "code",
   "execution_count": null,
   "id": "5ec1a491",
   "metadata": {},
   "outputs": [
    {
     "name": "stdout",
     "output_type": "stream",
     "text": [
      "Total number of words: 286\n"
     ]
    }
   ],
   "source": [
    "'''1. Problem: Given a text file, count the total number of words.\n",
    "'''\n",
    "def count(file_path):\n",
    "    with open (file_path, 'r') as file:\n",
    "        text = file.read()\n",
    "        words = text.split()\n",
    "        file.close()\n",
    "        return len(words)\n",
    "if __name__ == \"__main__\":\n",
    "    file_path = 'python day 4 questions.txt'\n",
    "    total_words = count(file_path)\n",
    "    print(f'Total number of words: {total_words}')"
   ]
  },
  {
   "cell_type": "code",
   "execution_count": 4,
   "id": "2a94085c",
   "metadata": {},
   "outputs": [
    {
     "name": "stdout",
     "output_type": "stream",
     "text": [
      "Strong password.\n"
     ]
    }
   ],
   "source": [
    "'''2. Problem: Write a program to check if a password is strong (at least 8 characters, contains uppercase, lowercase, digit, and special char).\n",
    "'''\n",
    "def is_strong_pw(pw):\n",
    "    if len(pw) < 8:\n",
    "        return False\n",
    "    upper = any(ch.isupper() for ch in pw)\n",
    "    lower = any(ch.islower() for ch in pw)\n",
    "    digit = any(ch.isdigit() for ch in pw)\n",
    "    special = any(ch in \"!@#$%^&*()-+\" for ch in pw)\n",
    "    return upper and lower and digit and special\n",
    "if __name__ == \"__main__\":\n",
    "    pw = input(\"enter a password: \")\n",
    "    if is_strong_pw(pw):\n",
    "        print(\"Strong password.\")\n",
    "    else:\n",
    "        print(\"Weak password.\")"
   ]
  },
  {
   "cell_type": "code",
   "execution_count": 8,
   "id": "e9eb40a1",
   "metadata": {},
   "outputs": [
    {
     "name": "stdout",
     "output_type": "stream",
     "text": [
      "result:  3\n"
     ]
    }
   ],
   "source": [
    "'''3. Problem: Implement a calculator with +, -, *, / operations.\n",
    "'''\n",
    "def calculator(a, b, op):\n",
    "    if op == '+':\n",
    "        return a + b\n",
    "    elif op == '-':\n",
    "        return a - b\n",
    "    elif op == '*':\n",
    "        return a * b\n",
    "    elif op == '/':\n",
    "        if b != 0:\n",
    "            return a / b\n",
    "        else:\n",
    "            return \"Division by zero not possible\"\n",
    "    else:\n",
    "        return \"Error: Invalid operator.\"\n",
    "if __name__ == \"__main__\":\n",
    "    n1 = int(input(\"Enter first number: \"))\n",
    "    n2 = int(input(\"Enter second number: \"))\n",
    "    operator = input(\"Enter operator (+, -, *, /): \")\n",
    "    res = calculator(n1, n2, operator)\n",
    "    print(\"result: \", res)"
   ]
  },
  {
   "cell_type": "code",
   "execution_count": 9,
   "id": "fd7b13d7",
   "metadata": {},
   "outputs": [
    {
     "name": "stdout",
     "output_type": "stream",
     "text": [
      " bc\n"
     ]
    }
   ],
   "source": [
    "'''4. Problem: Given a list of student names, find duplicates.\n",
    "'''\n",
    "def student_duplicate(l):\n",
    "    for i in l:\n",
    "        c = 0\n",
    "        for j in l:\n",
    "            if i == j:\n",
    "                c += 1\n",
    "    if c>1:\n",
    "        print(i)\n",
    "l = input().split(\",\")\n",
    "student_duplicate(l)\n",
    "\n"
   ]
  },
  {
   "cell_type": "code",
   "execution_count": 17,
   "id": "19cb41f5",
   "metadata": {},
   "outputs": [
    {
     "name": "stdout",
     "output_type": "stream",
     "text": [
      "33.8\n"
     ]
    }
   ],
   "source": [
    "'''5. Problem: Convert between Celsius and Fahrenheit.\n",
    "'''\n",
    "def c_to_f(n):\n",
    "    c = int(n)\n",
    "    return (c*9/5)+32\n",
    "def f_to_c(n):\n",
    "    f = int(n)\n",
    "    return (f-32)*5/9\n",
    "temp = input(\"enter temp along with unit\").split()\n",
    "n,u = temp\n",
    "if u.lower() == \"c\":\n",
    "    print(c_to_f(n))\n",
    "else:\n",
    "    print(f_to_c(n))"
   ]
  },
  {
   "cell_type": "code",
   "execution_count": 19,
   "id": "a9209dbd",
   "metadata": {},
   "outputs": [
    {
     "name": "stdout",
     "output_type": "stream",
     "text": [
      "4\n"
     ]
    }
   ],
   "source": [
    "'''6. Problem: Find the largest number from a list of integers.\n",
    "'''\n",
    "l = list(map(int,input().split(\",\")))\n",
    "print(max(l))"
   ]
  },
  {
   "cell_type": "code",
   "execution_count": 20,
   "id": "8777d8da",
   "metadata": {},
   "outputs": [
    {
     "name": "stdout",
     "output_type": "stream",
     "text": [
      "i:  1.0\n",
      "si:  101.0\n"
     ]
    }
   ],
   "source": [
    "'''7. Problem: Calculate Simple Interest.\n",
    "'''\n",
    "p = int(input(\"enter principle\"))\n",
    "t = int(input(\"enter time\"))\n",
    "r = int(input(\"enter rate of interest\"))\n",
    "\n",
    "si = (p*t*r)/100\n",
    "print(\"i: \",si)\n",
    "print(\"si: \",p + si)"
   ]
  },
  {
   "cell_type": "code",
   "execution_count": 29,
   "id": "27424a5a",
   "metadata": {},
   "outputs": [
    {
     "name": "stdout",
     "output_type": "stream",
     "text": [
      "{'a': 10, 'b': 90, 'c': 19}\n",
      "a 10\n",
      "c 19\n"
     ]
    }
   ],
   "source": [
    "'''8. Problem: Given a dictionary of student names and attendance %, find defaulters (<75%).\n",
    "'''\n",
    "key = input().split(\",\")\n",
    "value = list(map(int,input().split(\",\")))\n",
    "students = {}\n",
    "for i,key in enumerate(key):\n",
    "    students[key] = value[i]\n",
    "print(students)\n",
    "for i,j in students.items():\n",
    "    if j < 75:\n",
    "        print(i,j)"
   ]
  },
  {
   "cell_type": "code",
   "execution_count": 31,
   "id": "198293a3",
   "metadata": {},
   "outputs": [
    {
     "name": "stdout",
     "output_type": "stream",
     "text": [
      "10\n"
     ]
    }
   ],
   "source": [
    "'''9. Problem: Input: 1234 → Output: 10\n",
    "'''\n",
    "n = int(input(\"Enter a number: \"))\n",
    "s = 0\n",
    "for digit in str(n):\n",
    "    s += int(digit) \n",
    "print(s)"
   ]
  },
  {
   "cell_type": "code",
   "execution_count": 38,
   "id": "8e78bf2e",
   "metadata": {},
   "outputs": [
    {
     "name": "stdout",
     "output_type": "stream",
     "text": [
      "4 is not prime\n"
     ]
    }
   ],
   "source": [
    "'''10. Problem: Write a function to check if a number is prime.\n",
    "'''\n",
    "def is_prime(n):\n",
    "    c = 0\n",
    "    for i in range(1,n):\n",
    "        if n % i == 0:\n",
    "            c += 1\n",
    "    if c >1:\n",
    "        print(f\"{n} is not prime\")\n",
    "    else:\n",
    "        print(f\"{n} is prime\")\n",
    "n = int(input(\"enter a no.\"))\n",
    "is_prime(n)"
   ]
  },
  {
   "cell_type": "code",
   "execution_count": 39,
   "id": "8608dc64",
   "metadata": {},
   "outputs": [
    {
     "name": "stdout",
     "output_type": "stream",
     "text": [
      "4\n",
      "1\n"
     ]
    }
   ],
   "source": [
    "'''11. Problem: Find smallest and largest numbers from a list.\n",
    "'''\n",
    "l = list(map(int,input().split(\",\")))\n",
    "print(max(l))\n",
    "print(min(l))"
   ]
  },
  {
   "cell_type": "code",
   "execution_count": 41,
   "id": "b9850eca",
   "metadata": {},
   "outputs": [
    {
     "name": "stdout",
     "output_type": "stream",
     "text": [
      "total:  6\n"
     ]
    }
   ],
   "source": [
    "'''12. Problem: Given items with prices in a dictionary, calculate total bill.\n",
    "'''\n",
    "key = input().split(\",\")\n",
    "value = list(map(int,input().split(\",\")))\n",
    "dict = {}\n",
    "sum = 0\n",
    "for i,key in enumerate(key):\n",
    "    dict[key] = value[i]\n",
    "for i,j in dict.items():\n",
    "    sum += j\n",
    "print(\"total: \",sum)"
   ]
  },
  {
   "cell_type": "code",
   "execution_count": null,
   "id": "7d898ad4",
   "metadata": {},
   "outputs": [
    {
     "name": "stdout",
     "output_type": "stream",
     "text": [
      "3\n"
     ]
    }
   ],
   "source": [
    "'''13. Problem: Input 3 numbers, print the largest.\n",
    "'''\n",
    "a,b,c = map(int,input().split(\",\"))\n",
    "print(max(a,b,c))"
   ]
  },
  {
   "cell_type": "code",
   "execution_count": 47,
   "id": "ed5f2af8",
   "metadata": {},
   "outputs": [
    {
     "name": "stdout",
     "output_type": "stream",
     "text": [
      "h appears 1 times\n",
      "e appears 1 times\n",
      "l appears 2 times\n",
      "o appears 1 times\n"
     ]
    }
   ],
   "source": [
    "'''14. Problem: Count how many times each character appears in a string.\n",
    "'''\n",
    "str1 = input(\"enter a string: \")\n",
    "d = {}\n",
    "for i in str1:\n",
    "    d[i] = d.get(i,0) + 1\n",
    "for i,c in d.items():\n",
    "    print(f\"{i} appears {c} times\")"
   ]
  },
  {
   "cell_type": "code",
   "execution_count": 64,
   "id": "9b5c5d8e",
   "metadata": {},
   "outputs": [
    {
     "name": "stdout",
     "output_type": "stream",
     "text": [
      "total =  780\n"
     ]
    }
   ],
   "source": [
    "'''15. Problem: Calculate electricity bill:\n",
    "First 100 units → ₹5/unit\n",
    "Next 100 units → ₹7/unit\n",
    "Above 200 units → ₹10/unit'''\n",
    "n = int(input(\"enter electricity bill: \"))\n",
    "f, s, r = 0, 0, 0\n",
    "c = 0\n",
    "if n-100 >= 0 or n<=100:\n",
    "    while n>0:\n",
    "        f += 5\n",
    "        n -= 1\n",
    "        c += 1\n",
    "        if c == 100:\n",
    "            break\n",
    "c = 0\n",
    "if n-100 >= 0 or n<=200:\n",
    "    while n>0:\n",
    "        s += 7\n",
    "        n -= 1\n",
    "        c += 1\n",
    "        if c == 100:\n",
    "            break\n",
    "while(n>0):\n",
    "    r += 10\n",
    "    n -=1\n",
    "print(\"total = \",f+s+r)"
   ]
  },
  {
   "cell_type": "code",
   "execution_count": 61,
   "id": "6079fd12",
   "metadata": {},
   "outputs": [
    {
     "name": "stdout",
     "output_type": "stream",
     "text": [
      "['a', 'b', 'c']\n"
     ]
    }
   ],
   "source": [
    "'''16. Problem: Sort a list of names in ascending order.\n",
    "'''\n",
    "l = input().split(\",\")\n",
    "l.sort()\n",
    "print(l)"
   ]
  },
  {
   "cell_type": "code",
   "execution_count": 77,
   "id": "feab4c8d",
   "metadata": {},
   "outputs": [
    {
     "name": "stdout",
     "output_type": "stream",
     "text": [
      "4321\n"
     ]
    }
   ],
   "source": [
    "'''17. Problem: Input: 1234 → Output: 4321\n",
    "'''\n",
    "n = int(input(\"Enter a number: \"))\n",
    "b = 0\n",
    "while(n>0):\n",
    "    a = n % 10\n",
    "    b = b*10 +a\n",
    "    n = n//10\n",
    "print(b)"
   ]
  },
  {
   "cell_type": "code",
   "execution_count": 79,
   "id": "14ffbb4b",
   "metadata": {},
   "outputs": [
    {
     "name": "stdout",
     "output_type": "stream",
     "text": [
      "3 1 2\n"
     ]
    }
   ],
   "source": [
    "'''18. Problem: Given a list, count positive, negative, and zero numbers.\n",
    "'''\n",
    "l = list(map(int,input().split(\",\")))\n",
    "p, n, z = 0, 0, 0\n",
    "for i in l:\n",
    "    if i>0:\n",
    "        p += 1\n",
    "    elif i<0:\n",
    "        n += 1\n",
    "    else:\n",
    "        z += 1\n",
    "print (p,n,z)"
   ]
  },
  {
   "cell_type": "code",
   "execution_count": 1,
   "id": "d9d3f4bb",
   "metadata": {},
   "outputs": [
    {
     "name": "stdout",
     "output_type": "stream",
     "text": [
      "Incorrect PIN.\n",
      "Incorrect PIN.\n",
      "Access granted.\n"
     ]
    }
   ],
   "source": [
    "'''19. Problem: User has 3 attempts to enter correct PIN.\n",
    "'''\n",
    "pin = 1234\n",
    "attempts = 0\n",
    "while attempts < 3:\n",
    "    user_input = int(input(\"Enter your PIN: \"))\n",
    "    if user_input == pin:\n",
    "        print(\"Access granted.\")\n",
    "        break\n",
    "    else:\n",
    "        print(\"Incorrect PIN.\")\n",
    "        attempts += 1\n",
    "if attempts == 3:\n",
    "    print(\"Access denied.\")"
   ]
  },
  {
   "cell_type": "code",
   "execution_count": 3,
   "id": "b59bd568",
   "metadata": {},
   "outputs": [
    {
     "name": "stdout",
     "output_type": "stream",
     "text": [
      "Error: Division by zero is not allowed.\n"
     ]
    }
   ],
   "source": [
    "'''20. Problem: Write a program that asks for two numbers and divides them. Handle division by zero.\n",
    "'''\n",
    "num1 = float(input(\"Enter the first number: \"))\n",
    "num2 = float(input(\"Enter the second number: \"))\n",
    "try:\n",
    "    result = num1 / num2\n",
    "    print(\"The result is:\", result)\n",
    "except ZeroDivisionError:\n",
    "    print(\"Error: Division by zero is not allowed.\")"
   ]
  },
  {
   "cell_type": "code",
   "execution_count": 4,
   "id": "bed830cf",
   "metadata": {},
   "outputs": [
    {
     "name": "stdout",
     "output_type": "stream",
     "text": [
      "Error: Invalid input. Please enter numeric values.\n"
     ]
    }
   ],
   "source": [
    "'''21. Problem: Write a program that handles both ValueError (invalid input) and ZeroDivisionError.\n",
    "'''\n",
    "num1 = input(\"Enter the first number: \")\n",
    "num2 = input(\"Enter the second number: \")\n",
    "try:\n",
    "    result = float(num1) / float(num2)\n",
    "    print(\"The result is:\", result)\n",
    "except ZeroDivisionError:\n",
    "    print(\"Error: Division by zero is not allowed.\")\n",
    "except ValueError:\n",
    "    print(\"Error: Invalid input. Please enter numeric values.\")"
   ]
  },
  {
   "cell_type": "code",
   "execution_count": 13,
   "id": "8fdd3c62",
   "metadata": {},
   "outputs": [
    {
     "name": "stdout",
     "output_type": "stream",
     "text": [
      "Insufficient funds for this withdrawal.\n"
     ]
    }
   ],
   "source": [
    "'''22. Problem: If withdrawal amount is greater than balance, raise an exception.\n",
    "'''\n",
    "class InsufficientFundsError(Exception):\n",
    "    pass\n",
    "bal = 1000\n",
    "withdrawal_amount = float(input(\"Enter withdrawal amount: \"))\n",
    "try:\n",
    "    if withdrawal_amount > bal:\n",
    "        raise InsufficientFundsError\n",
    "    else:\n",
    "        bal -= withdrawal_amount\n",
    "        print(f\"Withdrawal successful. New balance: {bal}\")\n",
    "except InsufficientFundsError:\n",
    "    print(\"Insufficient funds for this withdrawal.\")"
   ]
  },
  {
   "cell_type": "code",
   "execution_count": 16,
   "id": "11588127",
   "metadata": {},
   "outputs": [
    {
     "name": "stdout",
     "output_type": "stream",
     "text": [
      "Invalid input: Units cannot be negative.\n",
      "Bill processing finished.\n"
     ]
    }
   ],
   "source": [
    "'''23. Problem: Calculate total price, handle invalid input, and always show \"Bill processing finished\".\n",
    "• First 100 units → ₹5/unit\n",
    "• Next 100 units → ₹7/unit\n",
    "• Above 200 units → ₹10/unit'''\n",
    "try:\n",
    "    n = int(input(\"enter electricity bill: \"))\n",
    "    if n < 0:\n",
    "        raise ValueError(\"Invalid input: Units cannot be negative.\")\n",
    "    f, s, r = 0, 0, 0\n",
    "    c = 0\n",
    "    if n-100 >= 0 or n<=100:\n",
    "        while n>0:\n",
    "            f += 5\n",
    "            n -= 1\n",
    "            c += 1\n",
    "            if c == 100:\n",
    "                break\n",
    "    c = 0\n",
    "    if n-100 >= 0 or n<=200:\n",
    "        while n>0:\n",
    "            s += 7\n",
    "            n -= 1\n",
    "            c += 1\n",
    "            if c == 100:\n",
    "                break\n",
    "    while(n>0):\n",
    "        r += 10\n",
    "        n -=1\n",
    "    print(\"total = \",f+s+r)\n",
    "except ValueError as e:\n",
    "    print(e)\n",
    "finally:\n",
    "    print(\"Bill processing finished.\")"
   ]
  },
  {
   "cell_type": "code",
   "execution_count": null,
   "id": "007ae862",
   "metadata": {},
   "outputs": [],
   "source": []
  }
 ],
 "metadata": {
  "kernelspec": {
   "display_name": "Python 3",
   "language": "python",
   "name": "python3"
  },
  "language_info": {
   "codemirror_mode": {
    "name": "ipython",
    "version": 3
   },
   "file_extension": ".py",
   "mimetype": "text/x-python",
   "name": "python",
   "nbconvert_exporter": "python",
   "pygments_lexer": "ipython3",
   "version": "3.11.0"
  }
 },
 "nbformat": 4,
 "nbformat_minor": 5
}
